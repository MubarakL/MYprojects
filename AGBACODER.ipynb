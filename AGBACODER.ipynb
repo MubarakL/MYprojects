{
 "cells": [
  {
   "cell_type": "code",
   "execution_count": 5,
   "id": "e5bd5fb5",
   "metadata": {},
   "outputs": [
    {
     "name": "stdout",
     "output_type": "stream",
     "text": [
      "Erudite\n"
     ]
    }
   ],
   "source": [
    "print(\"Erudite\")\n",
    "# print(\"2\")\n",
    "\"erudite has many programs\""
   ]
  },
  {
   "cell_type": "code",
   "execution_count": 18,
   "id": "64d109a7",
   "metadata": {},
   "outputs": [
    {
     "name": "stdout",
     "output_type": "stream",
     "text": [
      "erudite has many programs\n",
      "3.5\n"
     ]
    }
   ],
   "source": [
    "#print(\"amongus\")\n",
    "words=\"erudite has many programs\"\n",
    "key= 3.5\n",
    "print(sentence)\n",
    "print(key)\n"
   ]
  },
  {
   "cell_type": "code",
   "execution_count": 31,
   "id": "959df9e9",
   "metadata": {},
   "outputs": [
    {
     "name": "stdout",
     "output_type": "stream",
     "text": [
      "7\n"
     ]
    }
   ],
   "source": [
    "# words=\"erudite has many programs jshhskjewhou jbdbjd jhshdgfkwuhdh jdhkwdhwdbwld hehdvhkdugdeuoghobfljblkjdbldk.bkjblkud\"\n",
    "number=7\n",
    "# print(words)\n",
    "print(number)"
   ]
  },
  {
   "cell_type": "code",
   "execution_count": 35,
   "id": "a50b929b",
   "metadata": {},
   "outputs": [
    {
     "name": "stdout",
     "output_type": "stream",
     "text": [
      "2\n"
     ]
    }
   ],
   "source": [
    "y=4\n",
    "x=6\n",
    "x=10\n",
    "y=2\n",
    "print(y)"
   ]
  },
  {
   "cell_type": "markdown",
   "id": "953a3b91",
   "metadata": {},
   "source": [
    "# varaibless\n"
   ]
  },
  {
   "cell_type": "code",
   "execution_count": 40,
   "id": "712bc63f",
   "metadata": {},
   "outputs": [
    {
     "name": "stdout",
     "output_type": "stream",
     "text": [
      "6900.666666666667\n"
     ]
    }
   ],
   "source": [
    "x=20\n",
    "y=30\n",
    "z=300\n",
    "w=80\n",
    "t=90\n",
    "sum=x/y-z+w*t\n",
    "print(sum)"
   ]
  },
  {
   "cell_type": "code",
   "execution_count": 41,
   "id": "555ac402",
   "metadata": {},
   "outputs": [
    {
     "name": "stdout",
     "output_type": "stream",
     "text": [
      "650\n"
     ]
    }
   ],
   "source": [
    "x=20\n",
    "y=30\n",
    "z=50\n",
    "divide=x*y+z\n",
    "print(divide)\n"
   ]
  },
  {
   "cell_type": "code",
   "execution_count": 53,
   "id": "18bacb02",
   "metadata": {},
   "outputs": [
    {
     "name": "stdout",
     "output_type": "stream",
     "text": [
      "My name is Mubarak  and I am doing 41R\n"
     ]
    }
   ],
   "source": [
    "name=\"Mubarak\"\n",
    "age= 18\n",
    "program=\"41R\"\n",
    "sentence= \"My name is \"+name+\" and I am doing \"+program\n",
    "print(sentence)"
   ]
  },
  {
   "cell_type": "code",
   "execution_count": null,
   "id": "df0ed2d2",
   "metadata": {},
   "outputs": [],
   "source": [
    "#LIST PYTHON"
   ]
  },
  {
   "cell_type": "code",
   "execution_count": 7,
   "id": "32a679e9",
   "metadata": {},
   "outputs": [
    {
     "name": "stdout",
     "output_type": "stream",
     "text": [
      "['orange', 'apple', 'Strawberry', 'Banana']\n"
     ]
    }
   ],
   "source": [
    "FRUITS=[\"apple\",\"Banana\",\"orange\", \"Strawberry\"]\n",
    "FRUITS.sort(reverse=True, key=str.lower)\n",
    "print(FRUITS)"
   ]
  },
  {
   "cell_type": "code",
   "execution_count": null,
   "id": "da9f2bf0",
   "metadata": {},
   "outputs": [],
   "source": [
    "number=[7,5,3,4,9,10]\n",
    "number.sort(reverse=True)\n",
    "print(number)"
   ]
  },
  {
   "cell_type": "code",
   "execution_count": null,
   "id": "5baa9bc4",
   "metadata": {},
   "outputs": [],
   "source": [
    "list=FRUITS.copy()\n",
    "print(list)\n",
    "print(FRUITS)"
   ]
  },
  {
   "cell_type": "code",
   "execution_count": null,
   "id": "40d913f6",
   "metadata": {},
   "outputs": [],
   "source": [
    "list.append(\"pear\")\n",
    "print(list)\n",
    "print(FRUITS)"
   ]
  },
  {
   "cell_type": "code",
   "execution_count": null,
   "id": "6ac986a9",
   "metadata": {},
   "outputs": [],
   "source": [
    "LIST1= FRUITS+number\n",
    "print(LIST1)"
   ]
  },
  {
   "cell_type": "code",
   "execution_count": null,
   "id": "69e1dd5c",
   "metadata": {},
   "outputs": [],
   "source": [
    "list2=FRUITS\n",
    "print(list2)\n",
    "print(FRUITS)"
   ]
  },
  {
   "cell_type": "code",
   "execution_count": null,
   "id": "ab360c09",
   "metadata": {},
   "outputs": [],
   "source": [
    "list2.append(\"THANK YOU!!!!\")\n",
    "print(list2)\n",
    "print(FRUITS)"
   ]
  },
  {
   "cell_type": "code",
   "execution_count": null,
   "id": "0a36154d",
   "metadata": {},
   "outputs": [],
   "source": [
    "#NOTE: List is changeable or mutable, it is indexed, ordered and allows duplicate\n",
    "\n"
   ]
  },
  {
   "cell_type": "markdown",
   "id": "5e5a23de",
   "metadata": {},
   "source": [
    "TYPE CASTING\n"
   ]
  },
  {
   "cell_type": "code",
   "execution_count": 27,
   "id": "066fa5f1",
   "metadata": {},
   "outputs": [
    {
     "name": "stdout",
     "output_type": "stream",
     "text": [
      "3\n"
     ]
    }
   ],
   "source": [
    "# name=\"kola\"\n",
    "# age=35\n",
    "# print(\"My name is \",int(name),\",I am \"+str(age)+\" years old\")\n",
    "# str\n",
    "# int\n",
    "# float\n",
    "x=3.9\n",
    "Y=int(x)\n",
    "print(Y)"
   ]
  },
  {
   "cell_type": "code",
   "execution_count": null,
   "id": "0f88b5fe",
   "metadata": {},
   "outputs": [],
   "source": [
    "name = \"kola\"\n",
    "age = 35\n",
    "print(\"my name is \"+name+\",i am \"+str(age)+\" years old\")"
   ]
  },
  {
   "cell_type": "code",
   "execution_count": 12,
   "id": "f443ec18",
   "metadata": {},
   "outputs": [
    {
     "name": "stdout",
     "output_type": "stream",
     "text": [
      "71\n"
     ]
    }
   ],
   "source": [
    "val1=\"35\"\n",
    "val2=\"36\"\n",
    "print(int(val1)+int(val2))"
   ]
  },
  {
   "cell_type": "markdown",
   "id": "9e71724b",
   "metadata": {},
   "source": [
    "# TUPPLE"
   ]
  },
  {
   "cell_type": "code",
   "execution_count": null,
   "id": "8c16824e",
   "metadata": {},
   "outputs": [],
   "source": [
    "#TUPLE: It is unchangeable or immutable, it is indexed, ordered and allows duplicates"
   ]
  },
  {
   "cell_type": "code",
   "execution_count": null,
   "id": "81b3b03d",
   "metadata": {},
   "outputs": [],
   "source": [
    "newtuple=(\"Java\", \"Python\", \"Kotlin\")\n",
    "print(len(newtuple))\n",
    "print(newtuple[2])"
   ]
  },
  {
   "cell_type": "code",
   "execution_count": null,
   "id": "66b6701b",
   "metadata": {},
   "outputs": [],
   "source": [
    "mytup=(1,4,7,4,5)\n",
    "sorted(mytup)"
   ]
  },
  {
   "cell_type": "code",
   "execution_count": null,
   "id": "2e682399",
   "metadata": {},
   "outputs": [],
   "source": [
    "mytuplist=list(mytup)\n",
    "print(mytuplist)"
   ]
  },
  {
   "cell_type": "code",
   "execution_count": null,
   "id": "bb0ae160",
   "metadata": {},
   "outputs": [],
   "source": [
    "mytuplist.pop()"
   ]
  },
  {
   "cell_type": "code",
   "execution_count": null,
   "id": "5e18760b",
   "metadata": {},
   "outputs": [],
   "source": [
    "mytup=tuple(mytuplist)\n",
    "mytup"
   ]
  },
  {
   "cell_type": "code",
   "execution_count": null,
   "id": "89f489ee",
   "metadata": {},
   "outputs": [],
   "source": [
    "mytup2=(\"python\",\"java\",\"php\")"
   ]
  },
  {
   "cell_type": "code",
   "execution_count": null,
   "id": "8af9fa2c",
   "metadata": {},
   "outputs": [],
   "source": [
    "mynewtup=mytup+mytup2\n",
    "print(mynewtup)"
   ]
  },
  {
   "cell_type": "code",
   "execution_count": null,
   "id": "642fff3e",
   "metadata": {},
   "outputs": [],
   "source": [
    "mytupn=(\"python\",\"java\",\"php\")\n",
    "\n",
    "for k in mytupn:\n",
    "    print(k)"
   ]
  },
  {
   "cell_type": "code",
   "execution_count": null,
   "id": "8c2a0a3c",
   "metadata": {},
   "outputs": [],
   "source": [
    "name=(2,4,8,2,9,2,9)\n",
    "name.count(2)"
   ]
  },
  {
   "cell_type": "code",
   "execution_count": null,
   "id": "1f292fd0",
   "metadata": {},
   "outputs": [],
   "source": [
    "#packing\n",
    "tup1=(\"apple\",\"banana\",\"orange\")\n",
    "print(tup1[0])\n",
    "print(tup1[1])"
   ]
  },
  {
   "cell_type": "code",
   "execution_count": null,
   "id": "6347e058",
   "metadata": {},
   "outputs": [],
   "source": [
    "#unpacking: This is where we can store all the elements in a tuple into different variables\n",
    "fruits=(\"apple\",\"banana\",\"orange\")\n",
    "(var1,var2,var3)=fruits\n",
    "print(var1)\n",
    "print(var2)\n",
    "print(var3)"
   ]
  },
  {
   "cell_type": "code",
   "execution_count": null,
   "id": "f864bba0",
   "metadata": {},
   "outputs": [],
   "source": [
    "fruits=(\"apple\",\"banana\",\"orange\",\"strawberry\",\"pear\")\n",
    "(var1,var2,*var3)=fruits\n",
    "print(var1)\n",
    "print(var2)\n",
    "print(var3)"
   ]
  },
  {
   "cell_type": "code",
   "execution_count": null,
   "id": "e47a9860",
   "metadata": {},
   "outputs": [],
   "source": [
    "fruits=(\"apple\",\"banana\",\"orange\",\"strawberry\",\"pear\")\n",
    "(var1,*var2,var3)=fruits\n",
    "print(var1)\n",
    "print(var2)\n",
    "print(var3)"
   ]
  },
  {
   "cell_type": "markdown",
   "id": "7deeba46",
   "metadata": {},
   "source": [
    "# SET"
   ]
  },
  {
   "cell_type": "code",
   "execution_count": null,
   "id": "f450c2a5",
   "metadata": {},
   "outputs": [],
   "source": [
    "#set\n",
    "#NOTE: Set is unchangeable, unordered, unindexed and it does not allow duplicate"
   ]
  },
  {
   "cell_type": "code",
   "execution_count": null,
   "id": "d704e181",
   "metadata": {},
   "outputs": [],
   "source": [
    "myset= {\"beans\", \"rice\", \"yam\", \"rice\"}\n",
    "print(myset)"
   ]
  },
  {
   "cell_type": "code",
   "execution_count": 8,
   "id": "efe70441",
   "metadata": {},
   "outputs": [
    {
     "name": "stdout",
     "output_type": "stream",
     "text": [
      "{'apple', 'banana'}\n"
     ]
    }
   ],
   "source": [
    "myset1={\"apple\", \"banana\", \"orange\"}\n",
    "myset1.remove(\"orange\")\n",
    "print(myset1)"
   ]
  },
  {
   "cell_type": "code",
   "execution_count": 9,
   "id": "78e4bff3",
   "metadata": {},
   "outputs": [
    {
     "ename": "NameError",
     "evalue": "name 'myset' is not defined",
     "output_type": "error",
     "traceback": [
      "\u001b[1;31m---------------------------------------------------------------------------\u001b[0m",
      "\u001b[1;31mNameError\u001b[0m                                 Traceback (most recent call last)",
      "Cell \u001b[1;32mIn [9], line 1\u001b[0m\n\u001b[1;32m----> 1\u001b[0m myset\u001b[39m.\u001b[39madd(\u001b[39m\"\u001b[39m\u001b[39mjava\u001b[39m\u001b[39m\"\u001b[39m)\n\u001b[0;32m      2\u001b[0m \u001b[39mprint\u001b[39m(myset)\n",
      "\u001b[1;31mNameError\u001b[0m: name 'myset' is not defined"
     ]
    }
   ],
   "source": [
    "myset.add(\"java\")\n",
    "print(myset)"
   ]
  },
  {
   "cell_type": "code",
   "execution_count": 10,
   "id": "f0300081",
   "metadata": {},
   "outputs": [
    {
     "ename": "NameError",
     "evalue": "name 'myset' is not defined",
     "output_type": "error",
     "traceback": [
      "\u001b[1;31m---------------------------------------------------------------------------\u001b[0m",
      "\u001b[1;31mNameError\u001b[0m                                 Traceback (most recent call last)",
      "Cell \u001b[1;32mIn [10], line 1\u001b[0m\n\u001b[1;32m----> 1\u001b[0m myset\u001b[39m.\u001b[39mupdate(myset1)\n\u001b[0;32m      2\u001b[0m \u001b[39mprint\u001b[39m(myset)\n",
      "\u001b[1;31mNameError\u001b[0m: name 'myset' is not defined"
     ]
    }
   ],
   "source": [
    "myset.update(myset1)\n",
    "print(myset)"
   ]
  },
  {
   "cell_type": "code",
   "execution_count": null,
   "id": "7017d5de",
   "metadata": {},
   "outputs": [],
   "source": [
    "myset2={\"name\", \"age\",\"yam\"}\n",
    "myset.intersection(myset2)"
   ]
  },
  {
   "cell_type": "code",
   "execution_count": null,
   "id": "1ace6e3a",
   "metadata": {},
   "outputs": [],
   "source": [
    "import random"
   ]
  },
  {
   "cell_type": "code",
   "execution_count": null,
   "id": "dba751ed",
   "metadata": {},
   "outputs": [],
   "source": [
    "random.random()"
   ]
  },
  {
   "cell_type": "code",
   "execution_count": 11,
   "id": "85451024",
   "metadata": {},
   "outputs": [
    {
     "ename": "NameError",
     "evalue": "name 'random' is not defined",
     "output_type": "error",
     "traceback": [
      "\u001b[1;31m---------------------------------------------------------------------------\u001b[0m",
      "\u001b[1;31mNameError\u001b[0m                                 Traceback (most recent call last)",
      "Cell \u001b[1;32mIn [11], line 2\u001b[0m\n\u001b[0;32m      1\u001b[0m n\u001b[39m=\u001b[39m\u001b[39m100\u001b[39m\n\u001b[1;32m----> 2\u001b[0m \u001b[39mint\u001b[39m(random\u001b[39m.\u001b[39mrandom()\u001b[39m*\u001b[39mn)\n",
      "\u001b[1;31mNameError\u001b[0m: name 'random' is not defined"
     ]
    }
   ],
   "source": [
    "n=100\n",
    "int(random.random()*n)"
   ]
  },
  {
   "cell_type": "code",
   "execution_count": null,
   "id": "ac5cd482",
   "metadata": {},
   "outputs": [],
   "source": [
    "import math\n",
    "val=math.sqrt(100)\n",
    "val2=math.hypot(3,4)\n",
    "(print(val*val2))"
   ]
  },
  {
   "cell_type": "markdown",
   "id": "662f8e1b",
   "metadata": {},
   "source": [
    "ASSIGNMENT"
   ]
  },
  {
   "cell_type": "code",
   "execution_count": 1,
   "id": "d2318177",
   "metadata": {},
   "outputs": [
    {
     "name": "stdout",
     "output_type": "stream",
     "text": [
      "4.9\n"
     ]
    }
   ],
   "source": [
    "M=int(input(\"enter value for M\"))\n",
    "T=int(input(\"enter value for T\"))\n",
    "N=int(input(\"enter value for N\"))\n",
    "a=((M**2)+(3*(N**4)))\n",
    "import math\n",
    "b=math.sqrt((T**3)+(N**2))\n",
    "c=(a/b)\n",
    "d=c**(1./3.)\n",
    "print(round(d,2))"
   ]
  },
  {
   "cell_type": "markdown",
   "id": "c02ddba1",
   "metadata": {},
   "source": [
    "CLASSWORK"
   ]
  },
  {
   "cell_type": "code",
   "execution_count": null,
   "id": "ed871e7d",
   "metadata": {},
   "outputs": [],
   "source": [
    "d=int(input(\"enter value for d\"))\n",
    "a=int(input(\"enter value for a\"))\n",
    "b=int(input(\"enter value for b\"))\n",
    "c=int(input(\"enter value for c\"))\n",
    "m=int(input(\"enter value for m\"))\n",
    "n=int(input(\"enter value for n\"))\n",
    "y=(((c*m)-(a*d))/((b*m)-(a*n)))\n",
    "x=(((d)-(n*y))/m)\n",
    "print(y)\n",
    "print(x)"
   ]
  },
  {
   "cell_type": "markdown",
   "id": "8f9fb65b",
   "metadata": {},
   "source": [
    "# OPERATORS"
   ]
  },
  {
   "cell_type": "code",
   "execution_count": null,
   "id": "f6e5034d",
   "metadata": {},
   "outputs": [],
   "source": [
    "# 1. Arithmetic Operators\n",
    "# 2. Assignment Operators\n",
    "# 3. Comparison Operators\n",
    "# 4. Logical Operators\n",
    "# 5. Membership Operators\n",
    "# 6. Bitwise Operators"
   ]
  },
  {
   "cell_type": "code",
   "execution_count": null,
   "id": "4eb4e3b8",
   "metadata": {},
   "outputs": [],
   "source": [
    "# Assignment operator\n",
    "x= 4\n",
    "y= 8\n",
    "x+=1 #x=x+1\n",
    "y-=10 #y=y-10\n",
    "print(x)\n",
    "print(y)\n"
   ]
  },
  {
   "cell_type": "code",
   "execution_count": null,
   "id": "33bf2392",
   "metadata": {},
   "outputs": [],
   "source": [
    "m=12\n",
    "x=3\n",
    "m+=x #m=m+x\n",
    "print(m)"
   ]
  },
  {
   "cell_type": "code",
   "execution_count": null,
   "id": "b0c477b7",
   "metadata": {},
   "outputs": [],
   "source": [
    "#Comparison Operator\n",
    "x=15\n",
    "y=10\n",
    "print(x==15)\n",
    "print(x>y)\n",
    "print(x<=y)\n",
    "print(x!=15)"
   ]
  },
  {
   "cell_type": "code",
   "execution_count": null,
   "id": "8f0b6648",
   "metadata": {},
   "outputs": [],
   "source": [
    "#Logical Operator: or and not\n",
    "\n",
    "\n",
    "x=3\n",
    "y=5\n",
    "m= x==3 or x<5\n",
    "print(m)\n",
    "names= [\"java\",\"php\",\"python\"]\n",
    "print(\"kotlin\" in names)\n",
    "print(\"java\" not in names)\n"
   ]
  },
  {
   "cell_type": "code",
   "execution_count": null,
   "id": "ec8b3521",
   "metadata": {},
   "outputs": [],
   "source": [
    "#Nested If Statement\n",
    "x=2\n",
    "y=5\n",
    "m=7\n",
    "\n",
    "if x>y:\n",
    "    if y>m:\n",
    "        print(\"Come On! this is cool\")\n",
    "    else:\n",
    "        print(\"ohhh not really\")\n",
    "else:\n",
    "    print(\"you got it mehn\")"
   ]
  },
  {
   "cell_type": "code",
   "execution_count": null,
   "id": "43ffae92",
   "metadata": {},
   "outputs": [],
   "source": [
    "#<18\n",
    "#>18<65\n",
    "#>65"
   ]
  },
  {
   "cell_type": "code",
   "execution_count": null,
   "id": "339336f2",
   "metadata": {},
   "outputs": [],
   "source": [
    "age=int(input(\"Please enter your age\"))\n",
    "if age<18:\n",
    "    print(\"You're not eligible to vote\")\n",
    "elif age>18 and age<65:\n",
    "    print(\"You're eligible to vote\")\n",
    "elif age>65:\n",
    "    print(\"Leave the voting to the youth you're to Old to vote\")"
   ]
  },
  {
   "cell_type": "markdown",
   "id": "d5c690a0",
   "metadata": {},
   "source": [
    "# LOOPS\n"
   ]
  },
  {
   "cell_type": "markdown",
   "id": "9a3884eb",
   "metadata": {},
   "source": [
    "FOR LOOP"
   ]
  },
  {
   "cell_type": "code",
   "execution_count": null,
   "id": "62984f63",
   "metadata": {},
   "outputs": [],
   "source": [
    "mlist= [2,10,7,8,9,19,13,15,17]\n",
    "for i in mlist:\n",
    "    print(i)\n",
    "print(\"waoo this is cool\")\n"
   ]
  },
  {
   "cell_type": "code",
   "execution_count": null,
   "id": "3ce751fa",
   "metadata": {},
   "outputs": [],
   "source": [
    "for j in range(1,51):\n",
    "    print(j)\n",
    "    "
   ]
  },
  {
   "cell_type": "code",
   "execution_count": null,
   "id": "12f851f1",
   "metadata": {},
   "outputs": [],
   "source": [
    "for j in range(1,51):\n",
    "    print(j,end=\", \")"
   ]
  },
  {
   "cell_type": "code",
   "execution_count": null,
   "id": "19102880",
   "metadata": {},
   "outputs": [],
   "source": [
    "for j in range(1,51):\n",
    "    if j%2==0:\n",
    "        print(j,\"is and even number\")\n",
    "    else:\n",
    "        print(j,\"is an odd number\")\n"
   ]
  },
  {
   "cell_type": "code",
   "execution_count": null,
   "id": "4b21b7e4",
   "metadata": {},
   "outputs": [],
   "source": [
    "c= 0\n",
    "for j in range(1,10000):\n",
    "    if j%2==0:\n",
    "        c+=j\n",
    "print(\"the sum is\", c)"
   ]
  },
  {
   "cell_type": "code",
   "execution_count": null,
   "id": "b692461e",
   "metadata": {},
   "outputs": [],
   "source": [
    "num=int(input(\"enter a number\"))\n",
    "print(\"the multiplication table of:\", num)\n",
    "for count in range(1,11):\n",
    "    print(num,'x',count,'=',num*count)"
   ]
  },
  {
   "cell_type": "markdown",
   "id": "15cc3e67",
   "metadata": {},
   "source": [
    "PATTERNS"
   ]
  },
  {
   "cell_type": "code",
   "execution_count": null,
   "id": "c05b04dc",
   "metadata": {},
   "outputs": [],
   "source": [
    "#1. ####\n",
    "    ####\n",
    "    ####\n",
    "    ####\n",
    "\n",
    "#2. #\n",
    "    ##\n",
    "    ###\n",
    "    ####\n",
    "\n",
    "#3. ####\n",
    "    ###\n",
    "    ##\n",
    "    #\n",
    "\n"
   ]
  },
  {
   "cell_type": "code",
   "execution_count": null,
   "id": "45b7529b",
   "metadata": {},
   "outputs": [],
   "source": []
  },
  {
   "cell_type": "code",
   "execution_count": 14,
   "id": "e7273a7c",
   "metadata": {},
   "outputs": [
    {
     "name": "stdout",
     "output_type": "stream",
     "text": [
      "# \n",
      "# # \n",
      "# # # \n",
      "# # # # \n"
     ]
    }
   ],
   "source": [
    "for i in range(4):\n",
    "    for j in range(i+1):\n",
    "       print(\"#\",end=\" \")\n",
    "    print()"
   ]
  },
  {
   "cell_type": "code",
   "execution_count": 5,
   "id": "f788bd6e",
   "metadata": {},
   "outputs": [
    {
     "name": "stdout",
     "output_type": "stream",
     "text": [
      "# # # # \n",
      "# # # \n",
      "# # \n",
      "# \n",
      "\n"
     ]
    }
   ],
   "source": [
    "for i in range(4+1,0,-1):\n",
    "    for j in range(i-1):\n",
    "        print(\"#\", end=\" \")\n",
    "    print()"
   ]
  },
  {
   "cell_type": "code",
   "execution_count": null,
   "id": "f2c35aa4",
   "metadata": {},
   "outputs": [],
   "source": [
    "for j in range(1,11):\n",
    "    if j==2 or j==4 or j==7 or j==9:\n",
    "        continue\n",
    "    print(j)"
   ]
  },
  {
   "cell_type": "code",
   "execution_count": null,
   "id": "5e83f33b",
   "metadata": {},
   "outputs": [],
   "source": [
    "list= [1,2,3,4,5,6,7,8,9,10]\n",
    "for i in list:\n",
    "    if i%2==1:\n",
    "        print(i)\n",
    "        \n",
    "    elif i%2==0:\n",
    "     print(i)\n",
    "\n",
    "\n"
   ]
  },
  {
   "cell_type": "code",
   "execution_count": null,
   "id": "f95a9be7",
   "metadata": {},
   "outputs": [],
   "source": [
    "l=0\n",
    "ml=[1,2,3,4,5,6,7,8,9,10]\n",
    "if ml%2==0:\n",
    " print([l])\n"
   ]
  },
  {
   "cell_type": "code",
   "execution_count": null,
   "id": "b0c33da3",
   "metadata": {},
   "outputs": [],
   "source": [
    "ml=[1,2,3,4,5,6,7,8,9,10]\n",
    "for l in ml:\n",
    "    if l%2==0:\n",
    "      print(l,end=\" \")"
   ]
  },
  {
   "cell_type": "markdown",
   "id": "a510f948",
   "metadata": {},
   "source": [
    "WHILE LOOP"
   ]
  },
  {
   "cell_type": "code",
   "execution_count": 3,
   "id": "b40855b3",
   "metadata": {},
   "outputs": [
    {
     "name": "stdout",
     "output_type": "stream",
     "text": [
      "1\n",
      "2\n",
      "3\n",
      "4\n"
     ]
    }
   ],
   "source": [
    "i=1\n",
    "while i<5:\n",
    "    print(i)\n",
    "    i+=1"
   ]
  },
  {
   "cell_type": "code",
   "execution_count": 13,
   "id": "5eded917",
   "metadata": {},
   "outputs": [
    {
     "name": "stdout",
     "output_type": "stream",
     "text": [
      "# # # # \n",
      "# # # # \n",
      "# # # # \n",
      "# # # # \n"
     ]
    }
   ],
   "source": [
    "i=1\n",
    "while i<5:\n",
    "    j=1\n",
    "    while j<5:\n",
    "        print(\"#\",end=\" \")\n",
    "        j+=1\n",
    "    i+=1\n",
    "    print()"
   ]
  },
  {
   "cell_type": "code",
   "execution_count": 33,
   "id": "ddf19f06",
   "metadata": {},
   "outputs": [
    {
     "name": "stdout",
     "output_type": "stream",
     "text": [
      "0 1 \n",
      "0 1 2 \n",
      "0 1 2 3 \n",
      "0 1 2 3 4 \n"
     ]
    }
   ],
   "source": [
    "for i in range(1,5):\n",
    "    for j in range(i+1):\n",
    "       print(j,end=\" \")\n",
    "    print()"
   ]
  },
  {
   "cell_type": "markdown",
   "id": "51d83578",
   "metadata": {},
   "source": [
    "# Assignment"
   ]
  },
  {
   "cell_type": "markdown",
   "id": "853b21e8",
   "metadata": {},
   "source": [
    "1."
   ]
  },
  {
   "cell_type": "code",
   "execution_count": 5,
   "id": "21d0ca36",
   "metadata": {},
   "outputs": [
    {
     "name": "stdout",
     "output_type": "stream",
     "text": [
      "15150\n"
     ]
    }
   ],
   "source": [
    "i=0\n",
    "for q in range (100,201):\n",
    "    i+=q\n",
    "print(i)"
   ]
  },
  {
   "cell_type": "markdown",
   "id": "41d5cc5f",
   "metadata": {},
   "source": [
    "2."
   ]
  },
  {
   "cell_type": "code",
   "execution_count": 8,
   "id": "6923b2de",
   "metadata": {},
   "outputs": [
    {
     "name": "stdout",
     "output_type": "stream",
     "text": [
      "Scorching Weather\n"
     ]
    }
   ],
   "source": [
    "temp=int(input(\"choose a temperature in degree centigrade\"))\n",
    "if temp<0:\n",
    "    print(\"Freezing Weather\")\n",
    "elif 0<temp<10:\n",
    "    print(\"Very Cold Weather\")\n",
    "elif 10<temp<20:\n",
    "    print(\"Cold Weather\")\n",
    "elif 20<temp<30:\n",
    "    print(\"Normal Temperature\")\n",
    "elif temp>100:\n",
    "    print(\"Out of Range\")\n",
    "elif temp>=40:\n",
    "    print(\"Scorching Weather\")"
   ]
  },
  {
   "cell_type": "markdown",
   "id": "425faa52",
   "metadata": {},
   "source": [
    "3."
   ]
  },
  {
   "cell_type": "code",
   "execution_count": 17,
   "id": "e4ab98f9",
   "metadata": {},
   "outputs": [
    {
     "name": "stdout",
     "output_type": "stream",
     "text": [
      "Come on this is not a month\n"
     ]
    }
   ],
   "source": [
    "mnth= input(\"Input name of a month\")\n",
    "if mnth==\"February\":\n",
    "    print(\"it has 28 or 29 days\")\n",
    "elif mnth in (\"April\",\"june\",\"september\",\"November\"):\n",
    "    print(\"It has 30 days\")\n",
    "elif mnth in (\"January\",\"March\",\"May\",\"July\",\"August\",\"October\",\"December\"):\n",
    "    print(\"It has 31 days\")\n",
    "else:\n",
    "    print(\"Come on this is not a month\")"
   ]
  },
  {
   "cell_type": "code",
   "execution_count": 3,
   "id": "241a1e31",
   "metadata": {},
   "outputs": [
    {
     "name": "stdout",
     "output_type": "stream",
     "text": [
      "ACCESS DENIED!\n",
      "You are Welcome Mr Mubarak\n"
     ]
    }
   ],
   "source": [
    "name= input(\"Enter your Name: \")\n",
    "while name!=\"Mubarak\":\n",
    "    print(\"ACCESS DENIED!\")\n",
    "    name= input(\"Enter your Name\")\n",
    "else:\n",
    "    print(\"You are Welcome Mr\",name)"
   ]
  },
  {
   "cell_type": "code",
   "execution_count": 3,
   "id": "d06282cc",
   "metadata": {},
   "outputs": [
    {
     "name": "stdout",
     "output_type": "stream",
     "text": [
      "ACCESS DENIED!\n",
      "ACCESS DENIED!\n",
      "You are Welcome Mr Mubarak\n"
     ]
    }
   ],
   "source": [
    "name= input(\"Enter your Name: \")\n",
    "c=5\n",
    "while c>0:\n",
    "    if name==\"Mubarak\":\n",
    "        print(\"You are Welcome Mr\",name)\n",
    "        break\n",
    "    else:\n",
    "        print(\"ACCESS DENIED!\")\n",
    "        name= input(\"Enter your Name\")\n",
    "    c-=1\n",
    "else:\n",
    "    if c==0:\n",
    "      print(\"You have exhausted your chances\")\n"
   ]
  },
  {
   "cell_type": "code",
   "execution_count": 8,
   "id": "44b4bf5d",
   "metadata": {},
   "outputs": [
    {
     "name": "stdout",
     "output_type": "stream",
     "text": [
      "[6, 5, 14]\n",
      "25\n"
     ]
    }
   ],
   "source": [
    "mylst=[[2,1,3],[1,4,5],[3,0,6]]\n",
    "result=[sum(l) for l in zip(*mylst)]\n",
    "print(result)\n",
    "a=0\n",
    "for i in result:\n",
    "    a+=i\n",
    "print(a)\n"
   ]
  },
  {
   "cell_type": "code",
   "execution_count": 15,
   "id": "5d1f4796",
   "metadata": {},
   "outputs": [
    {
     "name": "stdout",
     "output_type": "stream",
     "text": [
      "6\n",
      "10\n",
      "9\n"
     ]
    }
   ],
   "source": [
    "mylst=[[2,1,3],[1,4,5],[3,0,6]]\n",
    "mlist=[]\n",
    "for i in mylst:\n",
    "    result=sum(i)\n",
    "    print(result)\n",
    "\n",
    "\n",
    "\n"
   ]
  },
  {
   "cell_type": "markdown",
   "id": "42393826",
   "metadata": {},
   "source": [
    "LIST COMPREHENSION\n"
   ]
  },
  {
   "cell_type": "code",
   "execution_count": 1,
   "id": "8c577fcf",
   "metadata": {},
   "outputs": [
    {
     "name": "stdout",
     "output_type": "stream",
     "text": [
      "6\n"
     ]
    }
   ],
   "source": [
    "num=int(input(\"please enter a number\"))\n",
    "c=0\n",
    "for i in range(1,num+1):\n",
    "    c+=i\n",
    "print(c)"
   ]
  },
  {
   "cell_type": "code",
   "execution_count": 4,
   "id": "e4993002",
   "metadata": {},
   "outputs": [
    {
     "name": "stdout",
     "output_type": "stream",
     "text": [
      "('name', 'david')\n",
      "('location', 'Lagos')\n",
      "('age', '24')\n",
      "('status', 'single')\n"
     ]
    }
   ],
   "source": [
    "#Looping through a dictionary\n",
    "mydico = {\"name\":\"david\",\"location\":\"Lagos\",\"age\":\"24\",\"status\":\"single\"}\n",
    "for vut in mydico.items():\n",
    "    print(vut)"
   ]
  },
  {
   "cell_type": "code",
   "execution_count": null,
   "id": "b459b401",
   "metadata": {},
   "outputs": [],
   "source": []
  },
  {
   "cell_type": "code",
   "execution_count": 2,
   "id": "3a711931",
   "metadata": {},
   "outputs": [
    {
     "name": "stdout",
     "output_type": "stream",
     "text": [
      "Invalid salary\n"
     ]
    }
   ],
   "source": [
    "age=int(input(\"Enter age\"))\n",
    "if age<0:\n",
    "    print(\"Invalid age\")\n",
    "elif age<=7:\n",
    "    print(\"Child ticket: $10\")\n",
    "elif 8<=age<=17:\n",
    "    print(\"Teenager Ticket: $15\")\n",
    "elif age>=18:\n",
    "    salary=int(input(\"Enter salary\"))\n",
    "    if salary<0:\n",
    "        print(\"Invalid salary\")\n",
    "    elif salary<=1000:\n",
    "        print(\"Reduced adult ticket 1: $20\")\n",
    "    elif 1001<=salary<=2000:\n",
    "        print(\"Reduced adult ticket2: $25\")\n",
    "    else:\n",
    "        print(\"Adult ticket:$30\")"
   ]
  },
  {
   "cell_type": "code",
   "execution_count": 51,
   "id": "fcfc4e33",
   "metadata": {},
   "outputs": [
    {
     "name": "stdout",
     "output_type": "stream",
     "text": [
      "There are 2 uppercase letter\n"
     ]
    }
   ],
   "source": [
    "text=input(\"Enter anything\")\n",
    "i=0\n",
    "for w in text:\n",
    "    if w.isupper()==False and w.islower()==False:\n",
    "        continue\n",
    "    elif w.isupper():\n",
    "        i+=1\n",
    "if i==1:\n",
    "    print(\"There is\",i,\"uppercase letter\")\n",
    "else:\n",
    "    print(\"There are\",i,\"uppercase letter\")\n"
   ]
  },
  {
   "cell_type": "code",
   "execution_count": 5,
   "id": "0fb6ca1c",
   "metadata": {},
   "outputs": [
    {
     "name": "stdout",
     "output_type": "stream",
     "text": [
      "choose either of the two\n",
      "Male\n",
      "Female\n",
      "133.33333333333334\n",
      "Mrs.  Aakifah Your BMI is  133.33333333333334 you are obese please go to the gym!!!\n"
     ]
    }
   ],
   "source": [
    "name=input(\"Name: \")\n",
    "print(\"choose either of the two\")\n",
    "print(\"Male\")\n",
    "print(\"Female\")\n",
    "gender=input(\"Gender: \")\n",
    "W=int(input(\"Weight: \"))\n",
    "H=float(input(\"Height: \"))\n",
    "BMI=W/(H**2)\n",
    "print(BMI)\n",
    "if gender==\"Male\":\n",
    "    if BMI<18:\n",
    "        print(\"Mr. \",name,\"Your BMI is \",BMI,\"you are underweight please eat more!!!\")\n",
    "    elif BMI>18 and BMI<25:\n",
    "        print(\"Mr. \",name,\"Your BMI is \",BMI,\"you are healthy please keep it up!!!\")\n",
    "    elif BMI>25 and BMI<30:\n",
    "        print(\"Mr. \",name,\"Your BMI is \",BMI,\"you are overweight please watch it!!!\")\n",
    "    elif BMI>30:\n",
    "        print(\"Mr. \",name,\"Your BMI is \",BMI,\"you are obese please go to the gym!!!\")\n",
    "elif gender==\"Female\":\n",
    "    if BMI<18:\n",
    "        print(\"Mrs. \",name,\"Your BMI is \",BMI,\"you are underweight please eat more!!!\")\n",
    "    elif BMI>18 and BMI<25:\n",
    "        print(\"Mrs. \",name,\"Your BMI is \",BMI,\"you are healthy please keep it up!!!\")\n",
    "    elif BMI>25 and BMI<30:\n",
    "        print(\"Mrs. \",name,\"Your BMI is \",BMI,\"you are overweight please watch it!!!\")\n",
    "    elif BMI>30:\n",
    "        print(\"Mrs. \",name,\"Your BMI is \",BMI,\"you are obese please go to the gym!!!\")\n",
    "    "
   ]
  },
  {
   "cell_type": "code",
   "execution_count": 7,
   "id": "4b5b756f",
   "metadata": {},
   "outputs": [
    {
     "name": "stdout",
     "output_type": "stream",
     "text": [
      "The roots are imaginary\n"
     ]
    }
   ],
   "source": [
    "val1=float(input(\"a: \"))\n",
    "val2=float(input(\"b: \"))\n",
    "val3=float(input(\"c: \"))\n",
    "\n",
    "d=float(-1*val2)\n",
    "e=float(val2**2)\n",
    "f=float(4*val1*val3)\n",
    "g=float(e-f)\n",
    "import math\n",
    "if g>0 or g==0:\n",
    "    h=math.sqrt(g)\n",
    "    i=2*val1\n",
    "    x1=float(((d+h)/i))\n",
    "    x2=float(((d-h)/i))\n",
    "    print(x1)\n",
    "    print(x2)\n",
    "elif g<0:\n",
    "    print(\"The roots are imaginary\")"
   ]
  },
  {
   "cell_type": "markdown",
   "id": "ae0b2352",
   "metadata": {},
   "source": [
    "# Function"
   ]
  },
  {
   "cell_type": "code",
   "execution_count": null,
   "id": "b84f3e5f",
   "metadata": {},
   "outputs": [],
   "source": [
    "#Function is a block of code which needs to be invoked or called before it is executed"
   ]
  },
  {
   "cell_type": "markdown",
   "id": "e4a60a5b",
   "metadata": {},
   "source": [
    "TYPES OF FUNCTION"
   ]
  },
  {
   "cell_type": "code",
   "execution_count": null,
   "id": "162fad58",
   "metadata": {},
   "outputs": [],
   "source": [
    "#1. Non parameterized function: this is a function without parameters\n",
    "#2. Parameterized function: this is a function with parameters"
   ]
  },
  {
   "cell_type": "markdown",
   "id": "1624f499",
   "metadata": {},
   "source": [
    "Non parameterized Function"
   ]
  },
  {
   "cell_type": "code",
   "execution_count": 2,
   "id": "a3bd07b9",
   "metadata": {},
   "outputs": [
    {
     "name": "stdout",
     "output_type": "stream",
     "text": [
      "This is a function\n"
     ]
    }
   ],
   "source": [
    "def newFunction():\n",
    "    print(\"This is a function\")\n",
    "newFunction()\n"
   ]
  },
  {
   "cell_type": "markdown",
   "id": "fd9ed71f",
   "metadata": {},
   "source": [
    "Parameterized Function"
   ]
  },
  {
   "cell_type": "code",
   "execution_count": 5,
   "id": "22672a31",
   "metadata": {},
   "outputs": [
    {
     "data": {
      "text/plain": [
       "'this is 200'"
      ]
     },
     "execution_count": 5,
     "metadata": {},
     "output_type": "execute_result"
    }
   ],
   "source": [
    "def func1(x):\n",
    "    return f\"this is {x}\"\n",
    "func1(200)"
   ]
  },
  {
   "cell_type": "code",
   "execution_count": 6,
   "id": "3222ec3d",
   "metadata": {},
   "outputs": [
    {
     "data": {
      "text/plain": [
       "'coool'"
      ]
     },
     "execution_count": 6,
     "metadata": {},
     "output_type": "execute_result"
    }
   ],
   "source": [
    "def func2(x,y):\n",
    "    return \"noooooo\" if x>y else \"coool\"\n",
    "func2(12,24)"
   ]
  },
  {
   "cell_type": "code",
   "execution_count": 9,
   "id": "e0f4ae5e",
   "metadata": {},
   "outputs": [
    {
     "data": {
      "text/plain": [
       "'waoooo 10 is more than 9'"
      ]
     },
     "execution_count": 9,
     "metadata": {},
     "output_type": "execute_result"
    }
   ],
   "source": [
    "def func3(x,y):\n",
    "    if x>y:\n",
    "        return f\"waoooo {x} is more than {y}\"\n",
    "    elif x<y and x==10:\n",
    "        return f\"perfect {x} is less than {y}\"\n",
    "    else:\n",
    "        return f\"something\"\n",
    "func3(10,9)"
   ]
  },
  {
   "cell_type": "code",
   "execution_count": 5,
   "id": "d256fcee",
   "metadata": {},
   "outputs": [
    {
     "data": {
      "text/plain": [
       "\"muba You're too young to vote\""
      ]
     },
     "execution_count": 5,
     "metadata": {},
     "output_type": "execute_result"
    }
   ],
   "source": [
    "name=input(\"Enter name: \")\n",
    "age=int(input(\"Enter age: \"))\n",
    "def funct():\n",
    "    if age<18:\n",
    "        return f\"{name} You're too young to vote\"\n",
    "    elif age>=18 and age<=70:\n",
    "        return f\"{name} You're eligible to vote\"\n",
    "    elif age>70:\n",
    "        return f\"{name} You dont need to vote GO HOME!!!\"\n",
    "funct()"
   ]
  },
  {
   "cell_type": "markdown",
   "id": "f98b68f9",
   "metadata": {},
   "source": [
    "VARIABLE LENGTH ARGUEMENT"
   ]
  },
  {
   "cell_type": "code",
   "execution_count": 5,
   "id": "a8c3a9a9",
   "metadata": {},
   "outputs": [
    {
     "name": "stdout",
     "output_type": "stream",
     "text": [
      "6\n",
      "(4, 5)\n"
     ]
    },
    {
     "data": {
      "text/plain": [
       "15"
      ]
     },
     "execution_count": 5,
     "metadata": {},
     "output_type": "execute_result"
    }
   ],
   "source": [
    "def addition(x,*num):\n",
    "    print(x)\n",
    "    print(num)\n",
    "    c=x\n",
    "    for i in num:\n",
    "        c+=i\n",
    "    return c\n",
    "addition(6,4,5)"
   ]
  },
  {
   "cell_type": "code",
   "execution_count": 6,
   "id": "e021b090",
   "metadata": {},
   "outputs": [
    {
     "ename": "ValueError",
     "evalue": "invalid literal for int() with base 10: 'x'",
     "output_type": "error",
     "traceback": [
      "\u001b[1;31m---------------------------------------------------------------------------\u001b[0m",
      "\u001b[1;31mValueError\u001b[0m                                Traceback (most recent call last)",
      "Cell \u001b[1;32mIn [6], line 4\u001b[0m\n\u001b[0;32m      2\u001b[0m m\u001b[39m=\u001b[39m[]\n\u001b[0;32m      3\u001b[0m \u001b[39mwhile\u001b[39;00m num\u001b[39m!=\u001b[39m\u001b[39m\"\u001b[39m\u001b[39mx\u001b[39m\u001b[39m\"\u001b[39m:\n\u001b[1;32m----> 4\u001b[0m     num\u001b[39m=\u001b[39m\u001b[39mint\u001b[39;49m(\u001b[39minput\u001b[39;49m(\u001b[39m\"\u001b[39;49m\u001b[39menter value: \u001b[39;49m\u001b[39m\"\u001b[39;49m))\n\u001b[0;32m      5\u001b[0m     m\u001b[39m.\u001b[39mappend(num)\n\u001b[0;32m      6\u001b[0m \u001b[39mprint\u001b[39m(m)\n",
      "\u001b[1;31mValueError\u001b[0m: invalid literal for int() with base 10: 'x'"
     ]
    }
   ],
   "source": [
    "num=input(\"Enter Values: \")\n",
    "m=[]\n",
    "while num!=\"x\":\n",
    "    num=int(input(\"enter value: \"))\n",
    "    m.append(num)\n",
    "print(m)\n",
    "c=0\n",
    "for i in g:\n",
    "    c+=i\n",
    "print(c)"
   ]
  },
  {
   "cell_type": "code",
   "execution_count": 2,
   "id": "ecd304a9",
   "metadata": {},
   "outputs": [
    {
     "name": "stdout",
     "output_type": "stream",
     "text": [
      "2\n",
      "3\n",
      "5\n",
      "7\n"
     ]
    }
   ],
   "source": [
    "mlist=[2,3,5,7]\n",
    "for i in mlist:\n",
    "    print(i)"
   ]
  },
  {
   "cell_type": "code",
   "execution_count": 9,
   "id": "a044caac",
   "metadata": {},
   "outputs": [
    {
     "name": "stdout",
     "output_type": "stream",
     "text": [
      "David\n"
     ]
    }
   ],
   "source": [
    "def mycode(name, **num):\n",
    "    print(name)\n",
    "    \n",
    "\n",
    "mycode(\"David\",age=14,state=\"Lagos\",mobile=38769)"
   ]
  },
  {
   "cell_type": "markdown",
   "id": "09e8cae0",
   "metadata": {},
   "source": [
    "KEYWORD VARIABLE LENGTH ARGUEMENT"
   ]
  },
  {
   "cell_type": "code",
   "execution_count": 10,
   "id": "a5dda914",
   "metadata": {},
   "outputs": [
    {
     "name": "stdout",
     "output_type": "stream",
     "text": [
      "David\n",
      "age 14\n",
      "state Lagos\n",
      "mobile 38769\n"
     ]
    }
   ],
   "source": [
    "def mycode(name, **num):\n",
    "    print(name)\n",
    "    for k,v in num.items():\n",
    "        print(k,v)\n",
    "mycode(\"David\",age=14,state=\"Lagos\",mobile=38769)"
   ]
  },
  {
   "cell_type": "markdown",
   "id": "7ca4076b",
   "metadata": {},
   "source": [
    "RECURSION"
   ]
  },
  {
   "cell_type": "code",
   "execution_count": 1,
   "id": "a5657b63",
   "metadata": {},
   "outputs": [
    {
     "data": {
      "text/plain": [
       "20100"
      ]
     },
     "execution_count": 1,
     "metadata": {},
     "output_type": "execute_result"
    }
   ],
   "source": [
    "def test(n):\n",
    "    c=0\n",
    "    if n>0:\n",
    "        c=n+test(n-1)\n",
    "        return c\n",
    "    else:\n",
    "        return c\n",
    "test(200)"
   ]
  },
  {
   "cell_type": "code",
   "execution_count": 1,
   "id": "1dcd1f65",
   "metadata": {},
   "outputs": [
    {
     "data": {
      "text/plain": [
       "120"
      ]
     },
     "execution_count": 1,
     "metadata": {},
     "output_type": "execute_result"
    }
   ],
   "source": [
    "def factori(n):\n",
    "    c=1\n",
    "    if n>0:\n",
    "        c=n*factori(n-1)\n",
    "        return c\n",
    "    else:\n",
    "        return c\n",
    "factori(5)"
   ]
  },
  {
   "cell_type": "code",
   "execution_count": 4,
   "id": "055e7f59",
   "metadata": {},
   "outputs": [
    {
     "name": "stdout",
     "output_type": "stream",
     "text": [
      "[1, 2, 3, 4, 5, 6, 7, 8, 9, 10, 11, 12, 13, 14, 15, 16, 17, 18, 19, 20]\n"
     ]
    }
   ],
   "source": [
    "mlist=[]\n",
    "for i in range(1,21):\n",
    "    mlist.append(i)\n",
    "print(mlist)"
   ]
  },
  {
   "cell_type": "code",
   "execution_count": 5,
   "id": "40b5b3d7",
   "metadata": {},
   "outputs": [
    {
     "data": {
      "text/plain": [
       "11"
      ]
     },
     "execution_count": 5,
     "metadata": {},
     "output_type": "execute_result"
    }
   ],
   "source": [
    "def func1(number):\n",
    "    def func2():\n",
    "        return number+1\n",
    "    return func2()\n",
    "func1(10)"
   ]
  },
  {
   "cell_type": "code",
   "execution_count": 13,
   "id": "14b9c4e2",
   "metadata": {},
   "outputs": [
    {
     "name": "stdout",
     "output_type": "stream",
     "text": [
      "15\n"
     ]
    }
   ],
   "source": [
    "def func1():\n",
    "    def func(n):\n",
    "        c=0\n",
    "        if n>0:\n",
    "            c=n+func(n-1)\n",
    "        return c\n",
    "    print(func(5))\n",
    "func1()"
   ]
  },
  {
   "cell_type": "markdown",
   "id": "3b3ce668",
   "metadata": {},
   "source": [
    "Local & Global Variable\n"
   ]
  },
  {
   "cell_type": "code",
   "execution_count": 14,
   "id": "a5c0ee8e",
   "metadata": {},
   "outputs": [
    {
     "name": "stdout",
     "output_type": "stream",
     "text": [
      "3\n"
     ]
    }
   ],
   "source": [
    "x=3          #GLOBAL VARIABLE\n",
    "def test():\n",
    "    global x\n",
    "    x=10  \n",
    "    print(x)   #LOCAL VARIABLE\n",
    "\n",
    "print(x)\n",
    "\n",
    "\n"
   ]
  },
  {
   "cell_type": "code",
   "execution_count": 47,
   "id": "00f837e2",
   "metadata": {},
   "outputs": [
    {
     "name": "stdout",
     "output_type": "stream",
     "text": [
      "[-1, 0.5]\n"
     ]
    }
   ],
   "source": [
    "mlist=[]\n",
    "def clip(*values,min_=0,max_=1):\n",
    "    for i in values:\n",
    "        if i<min_:\n",
    "            mlist.append(min_)\n",
    "        elif i>max_:\n",
    "            mlist.append(max_)\n",
    "        else:\n",
    "            mlist.append(i)\n",
    "clip(-1,0.5,min_=-2)\n",
    "print(mlist)"
   ]
  },
  {
   "cell_type": "code",
   "execution_count": 51,
   "id": "49272909",
   "metadata": {},
   "outputs": [
    {
     "data": {
      "text/plain": [
       "8"
      ]
     },
     "execution_count": 51,
     "metadata": {},
     "output_type": "execute_result"
    }
   ],
   "source": [
    "def mup(n,m):\n",
    "    if m==1:\n",
    "        return n\n",
    "    else:\n",
    "        return n*mup(n,m-1)\n",
    "mup(2,3)\n"
   ]
  },
  {
   "cell_type": "code",
   "execution_count": 71,
   "id": "39e7d1f2",
   "metadata": {},
   "outputs": [
    {
     "data": {
      "text/plain": [
       "20"
      ]
     },
     "execution_count": 71,
     "metadata": {},
     "output_type": "execute_result"
    }
   ],
   "source": [
    "def pes(n):\n",
    "    c=0\n",
    "    f=1\n",
    "    for i in range(1,n):\n",
    "        if i%2==0:\n",
    "            c+=i\n",
    "        else:\n",
    "            f+=i\n",
    "    return c\n",
    "    return f\n",
    "pes(10)\n"
   ]
  },
  {
   "cell_type": "markdown",
   "id": "15758651",
   "metadata": {},
   "source": [
    "EXCEPTION HANDLING"
   ]
  },
  {
   "cell_type": "code",
   "execution_count": 56,
   "id": "a1e5441a",
   "metadata": {},
   "outputs": [
    {
     "name": "stdout",
     "output_type": "stream",
     "text": [
      "java\n"
     ]
    },
    {
     "ename": "NameError",
     "evalue": "name 'muname' is not defined",
     "output_type": "error",
     "traceback": [
      "\u001b[1;31m---------------------------------------------------------------------------\u001b[0m",
      "\u001b[1;31mNameError\u001b[0m                                 Traceback (most recent call last)",
      "Cell \u001b[1;32mIn [56], line 2\u001b[0m\n\u001b[0;32m      1\u001b[0m \u001b[39mprint\u001b[39m(\u001b[39m\"\u001b[39m\u001b[39mjava\u001b[39m\u001b[39m\"\u001b[39m)\n\u001b[1;32m----> 2\u001b[0m \u001b[39mprint\u001b[39m(muname)\n\u001b[0;32m      3\u001b[0m \u001b[39mprint\u001b[39m(\u001b[39m5\u001b[39m)\n",
      "\u001b[1;31mNameError\u001b[0m: name 'muname' is not defined"
     ]
    }
   ],
   "source": [
    "print(\"java\")\n",
    "print(muname)\n",
    "print(5)"
   ]
  },
  {
   "cell_type": "code",
   "execution_count": 57,
   "id": "9855ea1b",
   "metadata": {},
   "outputs": [
    {
     "ename": "ZeroDivisionError",
     "evalue": "division by zero",
     "output_type": "error",
     "traceback": [
      "\u001b[1;31m---------------------------------------------------------------------------\u001b[0m",
      "\u001b[1;31mZeroDivisionError\u001b[0m                         Traceback (most recent call last)",
      "Cell \u001b[1;32mIn [57], line 1\u001b[0m\n\u001b[1;32m----> 1\u001b[0m \u001b[39mprint\u001b[39m(\u001b[39m5\u001b[39;49m\u001b[39m/\u001b[39;49m\u001b[39m0\u001b[39;49m)\n",
      "\u001b[1;31mZeroDivisionError\u001b[0m: division by zero"
     ]
    }
   ],
   "source": [
    "print(5/0)"
   ]
  },
  {
   "cell_type": "code",
   "execution_count": 1,
   "id": "96bed880",
   "metadata": {},
   "outputs": [
    {
     "name": "stdout",
     "output_type": "stream",
     "text": [
      "7\n"
     ]
    }
   ],
   "source": [
    "m=[1,4,7]\n",
    "print(m[2])"
   ]
  },
  {
   "cell_type": "code",
   "execution_count": 4,
   "id": "f29d09b5",
   "metadata": {},
   "outputs": [
    {
     "name": "stdout",
     "output_type": "stream",
     "text": [
      "Your variable has not been defined\n"
     ]
    }
   ],
   "source": [
    "try:\n",
    "    print(muname)\n",
    "except Exception:\n",
    "    print(\"Your variable has not been defined\")"
   ]
  },
  {
   "cell_type": "code",
   "execution_count": 7,
   "id": "71ef6dd6",
   "metadata": {},
   "outputs": [
    {
     "name": "stdout",
     "output_type": "stream",
     "text": [
      "Your variable has not been defined\n"
     ]
    }
   ],
   "source": [
    "try:\n",
    "    print(5/0)\n",
    "except ZeroDivisionError:\n",
    "    print(\"Your variable has not been defined\")"
   ]
  },
  {
   "cell_type": "code",
   "execution_count": 1,
   "id": "6bab1d96",
   "metadata": {},
   "outputs": [
    {
     "ename": "TypeError",
     "evalue": "isinstance() arg 2 must be a type, a tuple of types, or a union",
     "output_type": "error",
     "traceback": [
      "\u001b[1;31m---------------------------------------------------------------------------\u001b[0m",
      "\u001b[1;31mTypeError\u001b[0m                                 Traceback (most recent call last)",
      "Cell \u001b[1;32mIn [1], line 11\u001b[0m\n\u001b[0;32m      9\u001b[0m             res\u001b[39m.\u001b[39mappend(i)\n\u001b[0;32m     10\u001b[0m     \u001b[39mreturn\u001b[39;00m res \n\u001b[1;32m---> 11\u001b[0m flatten(v)\n",
      "Cell \u001b[1;32mIn [1], line 5\u001b[0m, in \u001b[0;36mflatten\u001b[1;34m(list)\u001b[0m\n\u001b[0;32m      3\u001b[0m res\u001b[39m=\u001b[39m[]\n\u001b[0;32m      4\u001b[0m \u001b[39mfor\u001b[39;00m i \u001b[39min\u001b[39;00m \u001b[39mlist\u001b[39m:\n\u001b[1;32m----> 5\u001b[0m     \u001b[39mif\u001b[39;00m \u001b[39misinstance\u001b[39;49m(i,\u001b[39mlist\u001b[39;49m):\n\u001b[0;32m      6\u001b[0m         \u001b[39mfor\u001b[39;00m m \u001b[39min\u001b[39;00m i:\n\u001b[0;32m      7\u001b[0m             res\u001b[39m.\u001b[39mappend(m)\n",
      "\u001b[1;31mTypeError\u001b[0m: isinstance() arg 2 must be a type, a tuple of types, or a union"
     ]
    }
   ],
   "source": [
    "v=[1,2,3,4,[5,6,7],8,9]\n",
    "def flatten(list):\n",
    "    res=[]\n",
    "    for i in list:\n",
    "        if isinstance(i,list):\n",
    "            for m in i:\n",
    "                res.append(m)\n",
    "        else:\n",
    "            res.append(i)\n",
    "    return res \n",
    "flatten(v)\n",
    "\n"
   ]
  },
  {
   "cell_type": "code",
   "execution_count": 3,
   "id": "37ec7630",
   "metadata": {},
   "outputs": [
    {
     "name": "stdout",
     "output_type": "stream",
     "text": [
      "0\n"
     ]
    }
   ],
   "source": [
    "print(3%2//5)"
   ]
  },
  {
   "cell_type": "code",
   "execution_count": 8,
   "id": "4d80d5c5",
   "metadata": {},
   "outputs": [
    {
     "name": "stdout",
     "output_type": "stream",
     "text": [
      "0\n"
     ]
    }
   ],
   "source": [
    "print(2**7//3%6)\n",
    " "
   ]
  },
  {
   "cell_type": "code",
   "execution_count": 14,
   "id": "257ec094",
   "metadata": {},
   "outputs": [
    {
     "name": "stdout",
     "output_type": "stream",
     "text": [
      "39\n"
     ]
    }
   ],
   "source": [
    "print(40^15)"
   ]
  },
  {
   "cell_type": "code",
   "execution_count": 15,
   "id": "9f984841",
   "metadata": {},
   "outputs": [
    {
     "data": {
      "text/plain": [
       "4"
      ]
     },
     "execution_count": 15,
     "metadata": {},
     "output_type": "execute_result"
    }
   ],
   "source": [
    "155>>5"
   ]
  },
  {
   "cell_type": "code",
   "execution_count": 16,
   "id": "c0cb9619",
   "metadata": {},
   "outputs": [
    {
     "data": {
      "text/plain": [
       "3"
      ]
     },
     "execution_count": 16,
     "metadata": {},
     "output_type": "execute_result"
    }
   ],
   "source": [
    "3&7"
   ]
  },
  {
   "cell_type": "code",
   "execution_count": 17,
   "id": "325f5d18",
   "metadata": {},
   "outputs": [
    {
     "ename": "NameError",
     "evalue": "name 'x' is not defined",
     "output_type": "error",
     "traceback": [
      "\u001b[1;31m---------------------------------------------------------------------------\u001b[0m",
      "\u001b[1;31mNameError\u001b[0m                                 Traceback (most recent call last)",
      "Cell \u001b[1;32mIn [17], line 1\u001b[0m\n\u001b[1;32m----> 1\u001b[0m \u001b[39mif\u001b[39;00m x\u001b[39m!=\u001b[39m\u001b[39m10\u001b[39m:\n\u001b[0;32m      2\u001b[0m     \u001b[39mprint\u001b[39m(\u001b[39m\"\u001b[39m\u001b[39m#\u001b[39m\u001b[39m\"\u001b[39m)\n\u001b[0;32m      3\u001b[0m     \u001b[39mif\u001b[39;00m x\u001b[39m<\u001b[39m\u001b[39m8\u001b[39m:\n",
      "\u001b[1;31mNameError\u001b[0m: name 'x' is not defined"
     ]
    }
   ],
   "source": [
    "if x!=10:\n",
    "    print(\"#\")\n",
    "    if x<8:\n",
    "        print(\"#\")\n",
    "    elif x==10:\n",
    "        print(\"#\")\n",
    "    else:\n",
    "        print(\"#\")\n",
    "else:\n",
    "    print(\"#\"*3)"
   ]
  },
  {
   "cell_type": "code",
   "execution_count": 18,
   "id": "23bb6c0d",
   "metadata": {},
   "outputs": [
    {
     "name": "stdout",
     "output_type": "stream",
     "text": [
      "False\n"
     ]
    }
   ],
   "source": [
    "name=input()\n",
    "print(name==\"Robert\")"
   ]
  },
  {
   "cell_type": "code",
   "execution_count": 2,
   "id": "6f3b7cb0",
   "metadata": {},
   "outputs": [
    {
     "name": "stdout",
     "output_type": "stream",
     "text": [
      "Hello,world\n"
     ]
    }
   ],
   "source": [
    "i=0\n",
    "while i<1:\n",
    "    print('Hello',end=\",\")\n",
    "    i+=1\n",
    "else:\n",
    "    print(\"world\")"
   ]
  },
  {
   "cell_type": "code",
   "execution_count": 3,
   "id": "5bc24ade",
   "metadata": {},
   "outputs": [
    {
     "data": {
      "text/plain": [
       "'0b1100'"
      ]
     },
     "execution_count": 3,
     "metadata": {},
     "output_type": "execute_result"
    }
   ],
   "source": [
    "bin(12)"
   ]
  },
  {
   "cell_type": "markdown",
   "id": "94616906",
   "metadata": {},
   "source": [
    "RAISE KEYWORD"
   ]
  },
  {
   "cell_type": "code",
   "execution_count": 4,
   "id": "8d394736",
   "metadata": {},
   "outputs": [
    {
     "ename": "TypeError",
     "evalue": "This is not an integer",
     "output_type": "error",
     "traceback": [
      "\u001b[1;31m---------------------------------------------------------------------------\u001b[0m",
      "\u001b[1;31mTypeError\u001b[0m                                 Traceback (most recent call last)",
      "Cell \u001b[1;32mIn [4], line 3\u001b[0m\n\u001b[0;32m      1\u001b[0m val\u001b[39m=\u001b[39m\u001b[39m\"\u001b[39m\u001b[39mname\u001b[39m\u001b[39m\"\u001b[39m\n\u001b[0;32m      2\u001b[0m \u001b[39mif\u001b[39;00m \u001b[39mnot\u001b[39;00m \u001b[39mtype\u001b[39m(val) \u001b[39mis\u001b[39;00m \u001b[39mint\u001b[39m:\n\u001b[1;32m----> 3\u001b[0m     \u001b[39mraise\u001b[39;00m \u001b[39mTypeError\u001b[39;00m(\u001b[39m\"\u001b[39m\u001b[39mThis is not an integer\u001b[39m\u001b[39m\"\u001b[39m)\n",
      "\u001b[1;31mTypeError\u001b[0m: This is not an integer"
     ]
    }
   ],
   "source": [
    "val=\"name\"\n",
    "if not type(val) is int:\n",
    "    raise TypeError(\"This is not an integer\")"
   ]
  },
  {
   "cell_type": "code",
   "execution_count": 1,
   "id": "0f81e5d9",
   "metadata": {},
   "outputs": [
    {
     "ename": "TypeError",
     "evalue": "This is not an integer",
     "output_type": "error",
     "traceback": [
      "\u001b[1;31m---------------------------------------------------------------------------\u001b[0m",
      "\u001b[1;31mTypeError\u001b[0m                                 Traceback (most recent call last)",
      "Cell \u001b[1;32mIn [1], line 3\u001b[0m\n\u001b[0;32m      1\u001b[0m val\u001b[39m=\u001b[39m\u001b[39m3.5\u001b[39m\n\u001b[0;32m      2\u001b[0m \u001b[39mif\u001b[39;00m \u001b[39mnot\u001b[39;00m \u001b[39mtype\u001b[39m(val) \u001b[39mis\u001b[39;00m \u001b[39mint\u001b[39m:\n\u001b[1;32m----> 3\u001b[0m     \u001b[39mraise\u001b[39;00m \u001b[39mTypeError\u001b[39;00m(\u001b[39m\"\u001b[39m\u001b[39mThis is not an integer\u001b[39m\u001b[39m\"\u001b[39m)\n\u001b[0;32m      4\u001b[0m \u001b[39melse\u001b[39;00m:\n\u001b[0;32m      5\u001b[0m     \u001b[39mprint\u001b[39m(val)\n",
      "\u001b[1;31mTypeError\u001b[0m: This is not an integer"
     ]
    }
   ],
   "source": [
    "val=3.5\n",
    "if not type(val) is int:\n",
    "    raise TypeError(\"This is not an integer\")\n",
    "else:\n",
    "    print(val)"
   ]
  },
  {
   "cell_type": "code",
   "execution_count": 17,
   "id": "22ac7dbd",
   "metadata": {},
   "outputs": [
    {
     "ename": "ValueError",
     "evalue": "invalid literal for int() with base 10: ''",
     "output_type": "error",
     "traceback": [
      "\u001b[1;31m---------------------------------------------------------------------------\u001b[0m",
      "\u001b[1;31mValueError\u001b[0m                                Traceback (most recent call last)",
      "Cell \u001b[1;32mIn [17], line 8\u001b[0m\n\u001b[0;32m      6\u001b[0m \u001b[39melif\u001b[39;00m gender\u001b[39m==\u001b[39m\u001b[39m\"\u001b[39m\u001b[39mfemale\u001b[39m\u001b[39m\"\u001b[39m\u001b[39mor\u001b[39;00m gender\u001b[39m==\u001b[39m\u001b[39m\"\u001b[39m\u001b[39mf\u001b[39m\u001b[39m\"\u001b[39m \u001b[39mor\u001b[39;00m gender\u001b[39m==\u001b[39m\u001b[39m\"\u001b[39m\u001b[39mFemale\u001b[39m\u001b[39m\"\u001b[39m \u001b[39mor\u001b[39;00m gender\u001b[39m==\u001b[39m\u001b[39m\"\u001b[39m\u001b[39mF\u001b[39m\u001b[39m\"\u001b[39m:\n\u001b[0;32m      7\u001b[0m     \u001b[39mprint\u001b[39m(\u001b[39m\"\u001b[39m\u001b[39mWelcome Mrs.\u001b[39m\u001b[39m\"\u001b[39m,name,\u001b[39m\"\u001b[39m\u001b[39m from \u001b[39m\u001b[39m\"\u001b[39m,location)\n\u001b[1;32m----> 8\u001b[0m age\u001b[39m=\u001b[39m\u001b[39mint\u001b[39;49m(\u001b[39minput\u001b[39;49m(\u001b[39m\"\u001b[39;49m\u001b[39mEnter your age: \u001b[39;49m\u001b[39m\"\u001b[39;49m))\n\u001b[0;32m      9\u001b[0m \u001b[39mif\u001b[39;00m age\u001b[39m<\u001b[39m\u001b[39m18\u001b[39m:\n\u001b[0;32m     10\u001b[0m     \u001b[39mprint\u001b[39m(\u001b[39m\"\u001b[39m\u001b[39mYou\u001b[39m\u001b[39m'\u001b[39m\u001b[39mre not eligible to vote\u001b[39m\u001b[39m\"\u001b[39m)\n",
      "\u001b[1;31mValueError\u001b[0m: invalid literal for int() with base 10: ''"
     ]
    }
   ],
   "source": [
    "name=input(\"Enter your name: \")\n",
    "location=input(\"Enter your location: \")\n",
    "gender=input(\"Enter your gender: \")\n",
    "if gender==\"male\"or gender==\"m\"or gender==\"Male\"or gender==\"M\":\n",
    "    print(\"Welcome Mr.\",name,\" from \",location)\n",
    "elif gender==\"female\"or gender==\"f\" or gender==\"Female\" or gender==\"F\":\n",
    "    print(\"Welcome Mrs.\",name,\" from \",location)\n",
    "age=int(input(\"Enter your age: \"))\n",
    "if age<18:\n",
    "    print(\"You're not eligible to vote\")\n",
    "elif 18<age<60 or age==18:\n",
    "    print(\"You're eligible to vote\")\n",
    "    PVC=input(\"Do you have a PVC: \")\n",
    "    if PVC==\"Yes\" or PVC==\"Y\" or PVC==\"y\" or PVC==\"yes\":\n",
    "        print(\"Get ready to vote next year\")\n",
    "    elif PVC==\"No\" or PVC==\"N\" or PVC==\"n\" or PVC==\"no\":\n",
    "        reason=input(\"Why don't you have(Type misplaced or not registered): \")\n",
    "        if reason==\"Misplaced\" or reason==\"misplaced\":\n",
    "            print(\"You still have time to get another one\")\n",
    "        elif reason==\"Not registered\" or reason==\"not registered\":\n",
    "            print(\"Go and get one before next year\")\n",
    "    else:\n",
    "        print(\"Go back and choose an option\")\n",
    "elif age>60 or age==60:\n",
    "    print(\"You dont need to vote dont worry\")\n",
    "\n",
    "        \n"
   ]
  },
  {
   "cell_type": "code",
   "execution_count": 18,
   "id": "091f161e",
   "metadata": {},
   "outputs": [
    {
     "name": "stdout",
     "output_type": "stream",
     "text": [
      "10\n"
     ]
    }
   ],
   "source": [
    "lst=[1,2]*5\n",
    "print(len(lst))"
   ]
  },
  {
   "cell_type": "code",
   "execution_count": 19,
   "id": "fb97965f",
   "metadata": {},
   "outputs": [
    {
     "data": {
      "text/plain": [
       "2"
      ]
     },
     "execution_count": 19,
     "metadata": {},
     "output_type": "execute_result"
    }
   ],
   "source": [
    "5%4**2//2"
   ]
  },
  {
   "cell_type": "code",
   "execution_count": 20,
   "id": "85dd3f19",
   "metadata": {},
   "outputs": [
    {
     "name": "stdout",
     "output_type": "stream",
     "text": [
      "Hello \n",
      "Python\n"
     ]
    }
   ],
   "source": [
    "print(\"Hello\",\"\\nPython\")"
   ]
  },
  {
   "cell_type": "code",
   "execution_count": 25,
   "id": "05090bdc",
   "metadata": {},
   "outputs": [
    {
     "name": "stdout",
     "output_type": "stream",
     "text": [
      "5 2\n"
     ]
    }
   ],
   "source": [
    "def num(x,y=5):\n",
    "    print(y,x)\n",
    "num(2)"
   ]
  },
  {
   "cell_type": "code",
   "execution_count": 26,
   "id": "5fe50161",
   "metadata": {},
   "outputs": [
    {
     "name": "stdout",
     "output_type": "stream",
     "text": [
      "(1, 3, 5, 2, 4)\n"
     ]
    }
   ],
   "source": [
    "tup1=(1,3,5)\n",
    "tup2=(2,4)\n",
    "tup1=tup1+tup2\n",
    "print(tup1)"
   ]
  },
  {
   "cell_type": "code",
   "execution_count": 4,
   "id": "4afca77e",
   "metadata": {},
   "outputs": [
    {
     "name": "stdout",
     "output_type": "stream",
     "text": [
      "[1, 3, 5, 7]\n"
     ]
    }
   ],
   "source": [
    "nums=[1,2,3,4,5,6,7]\n",
    "print(nums[::2])"
   ]
  },
  {
   "cell_type": "code",
   "execution_count": 5,
   "id": "36586ee3",
   "metadata": {},
   "outputs": [
    {
     "name": "stdout",
     "output_type": "stream",
     "text": [
      "0b10\n"
     ]
    }
   ],
   "source": [
    "a=0b1011\n",
    "b=0b1001\n",
    "print(bin(a^b))"
   ]
  },
  {
   "cell_type": "code",
   "execution_count": 19,
   "id": "89027ec9",
   "metadata": {},
   "outputs": [
    {
     "name": "stdout",
     "output_type": "stream",
     "text": [
      "9\n",
      "18\n",
      "27\n",
      "36\n",
      "45\n",
      "54\n",
      "63\n",
      "72\n",
      "81\n",
      "90\n"
     ]
    }
   ],
   "source": [
    "x=0\n",
    "for i in range(10):\n",
    "    for j in range(-1,-10,-1):\n",
    "        x+=1\n",
    "    print(x)"
   ]
  },
  {
   "cell_type": "code",
   "execution_count": 10,
   "id": "5f54cb6a",
   "metadata": {},
   "outputs": [
    {
     "name": "stdout",
     "output_type": "stream",
     "text": [
      "20\n"
     ]
    }
   ],
   "source": [
    "x=100\n",
    "def glob():\n",
    "    global x\n",
    "    x=20\n",
    "glob()\n",
    "print(x)"
   ]
  },
  {
   "cell_type": "code",
   "execution_count": null,
   "id": "50176edf",
   "metadata": {},
   "outputs": [],
   "source": []
  }
 ],
 "metadata": {
  "kernelspec": {
   "display_name": "Python 3",
   "language": "python",
   "name": "python3"
  },
  "language_info": {
   "codemirror_mode": {
    "name": "ipython",
    "version": 3
   },
   "file_extension": ".py",
   "mimetype": "text/x-python",
   "name": "python",
   "nbconvert_exporter": "python",
   "pygments_lexer": "ipython3",
   "version": "3.10.5 (tags/v3.10.5:f377153, Jun  6 2022, 16:14:13) [MSC v.1929 64 bit (AMD64)]"
  },
  "vscode": {
   "interpreter": {
    "hash": "369f2c481f4da34e4445cda3fffd2e751bd1c4d706f27375911949ba6bb62e1c"
   }
  }
 },
 "nbformat": 4,
 "nbformat_minor": 5
}
